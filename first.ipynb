{
 "cells": [
  {
   "cell_type": "code",
   "execution_count": 6,
   "metadata": {},
   "outputs": [],
   "source": [
    "from transformers import AutoModel, AutoProcessor, SpeechT5HifiGan, SpeechT5ForTextToSpeech, SpeechT5Processor\n",
    "from speechbrain.pretrained import EncoderClassifier\n",
    "from datasets import load_dataset \n",
    "import torch \n",
    "import text_to_speech \n",
    "import sounddevice\n",
    "import torchaudio\n",
    "import librosa\n",
    "import torch.nn.functional as F "
   ]
  },
  {
   "cell_type": "code",
   "execution_count": 7,
   "metadata": {},
   "outputs": [],
   "source": [
    "processor = SpeechT5Processor.from_pretrained(\"../../hf_models/speecht5_tts\")\n",
    "model = SpeechT5ForTextToSpeech.from_pretrained(\"../../hf_models/speecht5_tts\")\n",
    "vocoder = SpeechT5HifiGan.from_pretrained(\"../../hf_models/speecht5_hifigan\")\n",
    "classifier = EncoderClassifier.from_hparams(source=\"../../hf_models/spkrec-xvect-voxceleb\", savedir=\"pretrained_models/spkrec-xvect-voxceleb\")"
   ]
  },
  {
   "cell_type": "code",
   "execution_count": 10,
   "metadata": {},
   "outputs": [
    {
     "data": {
      "text/plain": [
       "SpeechT5SpeechDecoderPrenet(\n",
       "  (layers): ModuleList(\n",
       "    (0): Linear(in_features=80, out_features=256, bias=True)\n",
       "    (1): Linear(in_features=256, out_features=256, bias=True)\n",
       "  )\n",
       "  (final_layer): Linear(in_features=256, out_features=768, bias=True)\n",
       "  (encode_positions): SpeechT5ScaledPositionalEncoding(\n",
       "    (dropout): Dropout(p=0.1, inplace=False)\n",
       "  )\n",
       "  (speaker_embeds_layer): Linear(in_features=1280, out_features=768, bias=True)\n",
       ")"
      ]
     },
     "execution_count": 10,
     "metadata": {},
     "output_type": "execute_result"
    }
   ],
   "source": [
    "model.speecht5.decoder.prenet"
   ]
  },
  {
   "cell_type": "code",
   "execution_count": 177,
   "metadata": {},
   "outputs": [],
   "source": [
    "# embedding_dataset = load_dataset(path='../../data/cmu-arctic-xvectors', split='validation')\n",
    "# embeddings = torch.tensor(embedding_dataset[7306][\"xvector\"]).unsqueeze(0)\n",
    "signal, fs = torchaudio.load('rose_.mp3')\n",
    "assert fs == 16000\n",
    "embeddings = classifier.encode_batch(signal[:, 16000*0:16000*9]).mean(dim=0)\n",
    "\n",
    "# if speaker_embeddings is not None:\n",
    "#   speaker_embeddings = nn.functional.normalize(speaker_embeddings)\n",
    "#   speaker_embeddings = speaker_embeddings.unsqueeze(1)\n",
    "#   speaker_embeddings = speaker_embeddings.expand(-1, inputs_embeds.size(1), -1)\n",
    "#   inputs_embeds = torch.cat([inputs_embeds, speaker_embeddings], dim=-1)\n",
    "#   inputs_embeds = nn.functional.relu(self.speaker_embeds_layer(inputs_embeds))\n",
    "\n",
    "# return inputs_embeds"
   ]
  },
  {
   "cell_type": "code",
   "execution_count": 183,
   "metadata": {},
   "outputs": [],
   "source": [
    "# speak = 'Roseanne Park, born on eleventh February, nineteen ninety seven, known mononymously as Rosé, is a Korean-New Zealander singer and dancer based in South Korea. Born in New Zealand and raised in Australia, Rosé signed with South Korean label Y G Entertainment following a successful audition in twenth twelve and trained for four years before debuting as a member of the girl group Blackpink in August twenty sixteen.'\n",
    "# speak = 'When I go out and there are hundreds of people taking photographs of me.'\n",
    "speak = 'No, thats not how you do it'\n",
    "speech = text_to_speech.tts(processor, model, vocoder, speak, embeddings)\n",
    "sounddevice.play(speech.numpy(), 16000)"
   ]
  },
  {
   "cell_type": "code",
   "execution_count": 5,
   "metadata": {},
   "outputs": [
    {
     "data": {
      "text/plain": [
       "torch.Size([2, 1, 192])"
      ]
     },
     "execution_count": 5,
     "metadata": {},
     "output_type": "execute_result"
    }
   ],
   "source": [
    "embeddings.shape "
   ]
  }
 ],
 "metadata": {
  "kernelspec": {
   "display_name": "AI3_11",
   "language": "python",
   "name": "python3"
  },
  "language_info": {
   "codemirror_mode": {
    "name": "ipython",
    "version": 3
   },
   "file_extension": ".py",
   "mimetype": "text/x-python",
   "name": "python",
   "nbconvert_exporter": "python",
   "pygments_lexer": "ipython3",
   "version": "3.11.0"
  },
  "orig_nbformat": 4
 },
 "nbformat": 4,
 "nbformat_minor": 2
}
